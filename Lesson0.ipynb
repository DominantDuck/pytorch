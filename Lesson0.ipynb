{
  "nbformat": 4,
  "nbformat_minor": 0,
  "metadata": {
    "colab": {
      "provenance": [],
      "authorship_tag": "ABX9TyMPdAxTuqmRTM0FebHsFzNP",
      "include_colab_link": true
    },
    "kernelspec": {
      "name": "python3",
      "display_name": "Python 3"
    },
    "language_info": {
      "name": "python"
    }
  },
  "cells": [
    {
      "cell_type": "markdown",
      "metadata": {
        "id": "view-in-github",
        "colab_type": "text"
      },
      "source": [
        "<a href=\"https://colab.research.google.com/github/DominantDuck/pytorch/blob/main/Lesson0.ipynb\" target=\"_parent\"><img src=\"https://colab.research.google.com/assets/colab-badge.svg\" alt=\"Open In Colab\"/></a>"
      ]
    },
    {
      "cell_type": "code",
      "execution_count": 3,
      "metadata": {
        "colab": {
          "base_uri": "https://localhost:8080/"
        },
        "id": "oxH09jEupkGG",
        "outputId": "0acb99da-181f-41e0-c9bd-086659c34602"
      },
      "outputs": [
        {
          "output_type": "stream",
          "name": "stdout",
          "text": [
            "/bin/bash: line 1: nvidia-smi: command not found\n"
          ]
        }
      ],
      "source": [
        "!nvidia-smi"
      ]
    },
    {
      "cell_type": "code",
      "source": [
        "import torch\n",
        "import pandas as pd\n",
        "import numpy as np\n",
        "import matplotlib.pyplot as plt\n",
        "print (torch.__version__)"
      ],
      "metadata": {
        "colab": {
          "base_uri": "https://localhost:8080/"
        },
        "id": "oq96WNRbqJ4M",
        "outputId": "50c98c86-d7fd-4741-e4f6-22825d564385"
      },
      "execution_count": 4,
      "outputs": [
        {
          "output_type": "stream",
          "name": "stdout",
          "text": [
            "2.3.1+cu121\n"
          ]
        }
      ]
    },
    {
      "cell_type": "code",
      "source": [
        "# scalar\n",
        "scalar = torch.tensor(7)\n",
        "scalar"
      ],
      "metadata": {
        "colab": {
          "base_uri": "https://localhost:8080/"
        },
        "id": "AgUwp9DIrTNL",
        "outputId": "099c951e-9cde-4111-83cd-28cda2336eac"
      },
      "execution_count": null,
      "outputs": [
        {
          "output_type": "execute_result",
          "data": {
            "text/plain": [
              "tensor(7)"
            ]
          },
          "metadata": {},
          "execution_count": 3
        }
      ]
    },
    {
      "cell_type": "code",
      "source": [
        "scalar.ndim"
      ],
      "metadata": {
        "colab": {
          "base_uri": "https://localhost:8080/"
        },
        "id": "-23BlBddsoDe",
        "outputId": "09e39cdb-b0cb-4c43-ca24-4675e2762188"
      },
      "execution_count": null,
      "outputs": [
        {
          "output_type": "execute_result",
          "data": {
            "text/plain": [
              "0"
            ]
          },
          "metadata": {},
          "execution_count": 6
        }
      ]
    },
    {
      "cell_type": "code",
      "source": [
        "scalar.item()"
      ],
      "metadata": {
        "colab": {
          "base_uri": "https://localhost:8080/"
        },
        "id": "tVzscKjesqEV",
        "outputId": "97cec821-0597-4bbf-b15f-c9c92686f495"
      },
      "execution_count": null,
      "outputs": [
        {
          "output_type": "execute_result",
          "data": {
            "text/plain": [
              "7"
            ]
          },
          "metadata": {},
          "execution_count": 7
        }
      ]
    },
    {
      "cell_type": "code",
      "source": [
        "vector = torch.tensor([7,7])\n",
        "vector"
      ],
      "metadata": {
        "colab": {
          "base_uri": "https://localhost:8080/"
        },
        "id": "QHaRuKpQsvFR",
        "outputId": "38b5f4b4-e9ff-4b11-eba4-1cc4dc0b991f"
      },
      "execution_count": null,
      "outputs": [
        {
          "output_type": "execute_result",
          "data": {
            "text/plain": [
              "tensor([7, 7])"
            ]
          },
          "metadata": {},
          "execution_count": 8
        }
      ]
    },
    {
      "cell_type": "code",
      "source": [
        "vector.ndim"
      ],
      "metadata": {
        "colab": {
          "base_uri": "https://localhost:8080/"
        },
        "id": "xAUZE3eFtJkT",
        "outputId": "8f3af3bb-b60d-4f67-f3ac-5f87acca28ef"
      },
      "execution_count": null,
      "outputs": [
        {
          "output_type": "execute_result",
          "data": {
            "text/plain": [
              "1"
            ]
          },
          "metadata": {},
          "execution_count": 9
        }
      ]
    },
    {
      "cell_type": "code",
      "source": [
        "vector.shape"
      ],
      "metadata": {
        "colab": {
          "base_uri": "https://localhost:8080/"
        },
        "id": "9MswnPOdtMun",
        "outputId": "ea20a3a7-aeda-4060-b86c-ff123bc5e19a"
      },
      "execution_count": null,
      "outputs": [
        {
          "output_type": "execute_result",
          "data": {
            "text/plain": [
              "torch.Size([2])"
            ]
          },
          "metadata": {},
          "execution_count": 10
        }
      ]
    },
    {
      "cell_type": "code",
      "source": [
        "MATRIX = torch.tensor([[7,8],\n",
        "                       [9,10]])\n",
        "\n",
        "MATRIX"
      ],
      "metadata": {
        "colab": {
          "base_uri": "https://localhost:8080/"
        },
        "id": "p-PEjPKutYKD",
        "outputId": "46a8b267-db65-49b0-b15b-526767f7baba"
      },
      "execution_count": null,
      "outputs": [
        {
          "output_type": "execute_result",
          "data": {
            "text/plain": [
              "tensor([[ 7,  8],\n",
              "        [ 9, 10]])"
            ]
          },
          "metadata": {},
          "execution_count": 12
        }
      ]
    },
    {
      "cell_type": "code",
      "source": [
        "MATRIX.ndim"
      ],
      "metadata": {
        "colab": {
          "base_uri": "https://localhost:8080/"
        },
        "id": "-QXuPUdptoVY",
        "outputId": "d8e8d59b-a680-43d9-dffa-610d905d33ab"
      },
      "execution_count": null,
      "outputs": [
        {
          "output_type": "execute_result",
          "data": {
            "text/plain": [
              "2"
            ]
          },
          "metadata": {},
          "execution_count": 13
        }
      ]
    },
    {
      "cell_type": "code",
      "source": [
        "MATRIX[0]"
      ],
      "metadata": {
        "colab": {
          "base_uri": "https://localhost:8080/"
        },
        "id": "beavBh09tsIJ",
        "outputId": "6a121e1f-f081-4b7b-e60d-94529051fc4d"
      },
      "execution_count": null,
      "outputs": [
        {
          "output_type": "execute_result",
          "data": {
            "text/plain": [
              "tensor([7, 8])"
            ]
          },
          "metadata": {},
          "execution_count": 14
        }
      ]
    },
    {
      "cell_type": "code",
      "source": [
        "MATRIX.shape"
      ],
      "metadata": {
        "colab": {
          "base_uri": "https://localhost:8080/"
        },
        "id": "mT56FvIOtzFY",
        "outputId": "dddc1270-266e-4b19-f273-58d14bc22f95"
      },
      "execution_count": null,
      "outputs": [
        {
          "output_type": "execute_result",
          "data": {
            "text/plain": [
              "torch.Size([2, 2])"
            ]
          },
          "metadata": {},
          "execution_count": 15
        }
      ]
    },
    {
      "cell_type": "code",
      "source": [
        "TENSOR = torch.tensor([[[1,2,3],\n",
        "                        [4,5,6],\n",
        "                        [7,8,9]]])\n",
        "\n",
        "TENSOR"
      ],
      "metadata": {
        "colab": {
          "base_uri": "https://localhost:8080/"
        },
        "id": "gBkj2hEGt65Z",
        "outputId": "3f6cb473-57d0-4ae6-d005-a405db0f1250"
      },
      "execution_count": null,
      "outputs": [
        {
          "output_type": "execute_result",
          "data": {
            "text/plain": [
              "tensor([[[1, 2, 3],\n",
              "         [4, 5, 6],\n",
              "         [7, 8, 9]]])"
            ]
          },
          "metadata": {},
          "execution_count": 16
        }
      ]
    },
    {
      "cell_type": "code",
      "source": [
        "TENSOR[0][2].ndim"
      ],
      "metadata": {
        "colab": {
          "base_uri": "https://localhost:8080/"
        },
        "id": "5Y5LIC31vLQk",
        "outputId": "4150ae02-ba66-4006-855c-72913ca9ba28"
      },
      "execution_count": null,
      "outputs": [
        {
          "output_type": "execute_result",
          "data": {
            "text/plain": [
              "1"
            ]
          },
          "metadata": {},
          "execution_count": 21
        }
      ]
    },
    {
      "cell_type": "markdown",
      "source": [
        "# Random Tensors"
      ],
      "metadata": {
        "id": "TTTtdHb6v-OG"
      }
    },
    {
      "cell_type": "code",
      "source": [
        "random_tensor = torch.rand(5,5,5)\n",
        "\n",
        "random_tensor"
      ],
      "metadata": {
        "colab": {
          "base_uri": "https://localhost:8080/"
        },
        "id": "ZmZ4Mvc2wMbP",
        "outputId": "6ebb912d-24c0-4589-f002-aa872f69f557"
      },
      "execution_count": null,
      "outputs": [
        {
          "output_type": "execute_result",
          "data": {
            "text/plain": [
              "tensor([[[0.4781, 0.9266, 0.7459, 0.8970, 0.0323],\n",
              "         [0.7005, 0.9094, 0.9958, 0.2989, 0.9439],\n",
              "         [0.8966, 0.8935, 0.2036, 0.5040, 0.7011],\n",
              "         [0.5911, 0.2857, 0.2295, 0.9128, 0.8403],\n",
              "         [0.6537, 0.1823, 0.1766, 0.5282, 0.1861]],\n",
              "\n",
              "        [[0.5822, 0.7157, 0.5983, 0.1980, 0.1429],\n",
              "         [0.2583, 0.2261, 0.5893, 0.3480, 0.6833],\n",
              "         [0.3091, 0.9954, 0.4555, 0.4434, 0.8385],\n",
              "         [0.7131, 0.9646, 0.2751, 0.2684, 0.1617],\n",
              "         [0.8278, 0.8081, 0.0376, 0.8889, 0.8270]],\n",
              "\n",
              "        [[0.7366, 0.7174, 0.9754, 0.7327, 0.9431],\n",
              "         [0.6958, 0.5370, 0.5082, 0.0241, 0.2559],\n",
              "         [0.6176, 0.5974, 0.9684, 0.7654, 0.4999],\n",
              "         [0.1921, 0.6653, 0.1758, 0.3218, 0.5694],\n",
              "         [0.9905, 0.8904, 0.3188, 0.3168, 0.3479]],\n",
              "\n",
              "        [[0.5448, 0.4183, 0.8511, 0.3826, 0.2442],\n",
              "         [0.0459, 0.4583, 0.4608, 0.2978, 0.9666],\n",
              "         [0.6644, 0.9894, 0.9469, 0.3383, 0.2744],\n",
              "         [0.9682, 0.8171, 0.0793, 0.9915, 0.8029],\n",
              "         [0.2480, 0.3015, 0.5471, 0.5602, 0.1361]],\n",
              "\n",
              "        [[0.7646, 0.9616, 0.4249, 0.7291, 0.6484],\n",
              "         [0.1709, 0.8563, 0.0452, 0.8649, 0.7333],\n",
              "         [0.6349, 0.7184, 0.8355, 0.5686, 0.4933],\n",
              "         [0.8304, 0.9890, 0.2064, 0.6179, 0.8231],\n",
              "         [0.3372, 0.7578, 0.6410, 0.6273, 0.4028]]])"
            ]
          },
          "metadata": {},
          "execution_count": 7
        }
      ]
    },
    {
      "cell_type": "code",
      "source": [
        "random_image_size_tensor = torch.rand(size=(3,224,224)) #height, with, rgb value\n",
        "random_image_size_tensor.shape, random_image_size_tensor.ndim"
      ],
      "metadata": {
        "colab": {
          "base_uri": "https://localhost:8080/"
        },
        "id": "g-fc0nApxKoL",
        "outputId": "e7d9e1e3-dc05-4c60-ad3e-033e4ea2c1ac"
      },
      "execution_count": null,
      "outputs": [
        {
          "output_type": "execute_result",
          "data": {
            "text/plain": [
              "(torch.Size([3, 224, 224]), 3)"
            ]
          },
          "metadata": {},
          "execution_count": 12
        }
      ]
    },
    {
      "cell_type": "markdown",
      "source": [
        "Zeros and Ones"
      ],
      "metadata": {
        "id": "VpZW7HzeNgyY"
      }
    },
    {
      "cell_type": "code",
      "source": [
        "zeros = torch.zeros (size=(3,4))\n",
        "zeros"
      ],
      "metadata": {
        "colab": {
          "base_uri": "https://localhost:8080/"
        },
        "id": "2SvqbolPNisC",
        "outputId": "1e838520-2495-4e3a-981f-5e263502d1da"
      },
      "execution_count": null,
      "outputs": [
        {
          "output_type": "execute_result",
          "data": {
            "text/plain": [
              "tensor([[0., 0., 0., 0.],\n",
              "        [0., 0., 0., 0.],\n",
              "        [0., 0., 0., 0.]])"
            ]
          },
          "metadata": {},
          "execution_count": 13
        }
      ]
    },
    {
      "cell_type": "code",
      "source": [
        "random_tensor.dtype"
      ],
      "metadata": {
        "colab": {
          "base_uri": "https://localhost:8080/"
        },
        "id": "YhO5vH7CNtIg",
        "outputId": "b45a4f36-9435-4d3a-dd8b-39aefdb35336"
      },
      "execution_count": null,
      "outputs": [
        {
          "output_type": "execute_result",
          "data": {
            "text/plain": [
              "torch.float32"
            ]
          },
          "metadata": {},
          "execution_count": 14
        }
      ]
    },
    {
      "cell_type": "markdown",
      "source": [
        "# Range of Tensors"
      ],
      "metadata": {
        "id": "N2ZfpJJ8N60G"
      }
    },
    {
      "cell_type": "code",
      "source": [
        "torch.arange(start=0,end=1000, step=25)"
      ],
      "metadata": {
        "colab": {
          "base_uri": "https://localhost:8080/"
        },
        "id": "CwLvwnx1N6kL",
        "outputId": "8bf29815-fdcb-49be-afc1-a54b13c75306"
      },
      "execution_count": null,
      "outputs": [
        {
          "output_type": "execute_result",
          "data": {
            "text/plain": [
              "tensor([  0,  25,  50,  75, 100, 125, 150, 175, 200, 225, 250, 275, 300, 325,\n",
              "        350, 375, 400, 425, 450, 475, 500, 525, 550, 575, 600, 625, 650, 675,\n",
              "        700, 725, 750, 775, 800, 825, 850, 875, 900, 925, 950, 975])"
            ]
          },
          "metadata": {},
          "execution_count": 17
        }
      ]
    },
    {
      "cell_type": "code",
      "source": [
        "ten_zeroes = torch.zeroes_like"
      ],
      "metadata": {
        "id": "k__JvGSFOgM3"
      },
      "execution_count": null,
      "outputs": []
    },
    {
      "cell_type": "markdown",
      "source": [
        "# Tensor Datatypes"
      ],
      "metadata": {
        "id": "hpRPSH65PIqi"
      }
    },
    {
      "cell_type": "code",
      "source": [
        "test_data = torch.tensor([3.0,6.0,9.0], dtype=None, device=None)\n",
        "\n",
        "test_data"
      ],
      "metadata": {
        "colab": {
          "base_uri": "https://localhost:8080/"
        },
        "id": "l_6NLBWePScF",
        "outputId": "b104434e-16a0-4374-e4e2-d3713b334356"
      },
      "execution_count": 5,
      "outputs": [
        {
          "output_type": "execute_result",
          "data": {
            "text/plain": [
              "tensor([3., 6., 9.])"
            ]
          },
          "metadata": {},
          "execution_count": 5
        }
      ]
    },
    {
      "cell_type": "code",
      "source": [
        "updated_test_data = test_data.type(torch.float16)\n",
        "updated_test_data"
      ],
      "metadata": {
        "colab": {
          "base_uri": "https://localhost:8080/"
        },
        "id": "OY-wPWy7u6KN",
        "outputId": "01bff27b-1d03-4664-e118-fd66fd723b41"
      },
      "execution_count": 6,
      "outputs": [
        {
          "output_type": "execute_result",
          "data": {
            "text/plain": [
              "tensor([3., 6., 9.], dtype=torch.float16)"
            ]
          },
          "metadata": {},
          "execution_count": 6
        }
      ]
    },
    {
      "cell_type": "code",
      "source": [],
      "metadata": {
        "id": "39sDzws6vyhx"
      },
      "execution_count": null,
      "outputs": []
    },
    {
      "cell_type": "markdown",
      "source": [
        "# Get info from tensors\n",
        "\n",
        "1. Datatype - `tensor.dtype`\n",
        "2. shape - `tensor.shape`\n",
        "3. device - `tensor.device`"
      ],
      "metadata": {
        "id": "eH6y-XUtwO70"
      }
    },
    {
      "cell_type": "code",
      "source": [
        "test_tensor = torch.rand(3,4)\n",
        "test_tensor"
      ],
      "metadata": {
        "colab": {
          "base_uri": "https://localhost:8080/"
        },
        "id": "o3HruAljwR6D",
        "outputId": "83ee1253-087d-46f8-a369-853916725b48"
      },
      "execution_count": 26,
      "outputs": [
        {
          "output_type": "execute_result",
          "data": {
            "text/plain": [
              "tensor([[0.8041, 0.5726, 0.1328, 0.2593],\n",
              "        [0.5420, 0.8000, 0.4580, 0.7413],\n",
              "        [0.6703, 0.6025, 0.8730, 0.1768]])"
            ]
          },
          "metadata": {},
          "execution_count": 26
        }
      ]
    },
    {
      "cell_type": "code",
      "source": [
        "print(test_tensor)\n",
        "print(test_tensor.dtype)\n",
        "print(test_tensor.shape)\n",
        "print(test_tensor.device)"
      ],
      "metadata": {
        "colab": {
          "base_uri": "https://localhost:8080/"
        },
        "id": "J9AUvel3xLrM",
        "outputId": "faa546ff-27ad-4ae0-dd91-4bcaa20d3e68"
      },
      "execution_count": 12,
      "outputs": [
        {
          "output_type": "stream",
          "name": "stdout",
          "text": [
            "tensor([[0.9112, 0.0684, 0.6088, 0.1115],\n",
            "        [0.0214, 0.3849, 0.1358, 0.8353],\n",
            "        [0.1052, 0.1473, 0.9910, 0.5714]])\n",
            "torch.float32\n",
            "torch.Size([3, 4])\n",
            "cpu\n"
          ]
        }
      ]
    },
    {
      "cell_type": "code",
      "source": [
        "test_tensor = test_tensor.type(torch.float16)\n",
        "print(test_tensor)\n",
        "print(test_tensor.dtype)"
      ],
      "metadata": {
        "colab": {
          "base_uri": "https://localhost:8080/"
        },
        "id": "X6yJBrr5zSxL",
        "outputId": "2af0bd13-916b-4aaf-9b33-0a25cfaf06c6"
      },
      "execution_count": 28,
      "outputs": [
        {
          "output_type": "stream",
          "name": "stdout",
          "text": [
            "tensor([[0.8042, 0.5728, 0.1328, 0.2593],\n",
            "        [0.5420, 0.7998, 0.4580, 0.7412],\n",
            "        [0.6704, 0.6025, 0.8730, 0.1769]], dtype=torch.float16)\n",
            "torch.float16\n"
          ]
        }
      ]
    },
    {
      "cell_type": "markdown",
      "source": [
        "#Manipulating Tensors\n",
        "\n",
        "Tensor operations include: add, subtract, multiplication, division, and matrix multiplication"
      ],
      "metadata": {
        "id": "rN3hicFMyneA"
      }
    },
    {
      "cell_type": "code",
      "source": [
        "tensor = torch.tensor([1,2,3])\n",
        "tensor * 10"
      ],
      "metadata": {
        "colab": {
          "base_uri": "https://localhost:8080/"
        },
        "id": "_JFBCU-EyZxg",
        "outputId": "1743b039-ff15-4526-9761-bccf34479e5d"
      },
      "execution_count": 30,
      "outputs": [
        {
          "output_type": "execute_result",
          "data": {
            "text/plain": [
              "tensor([10, 20, 30])"
            ]
          },
          "metadata": {},
          "execution_count": 30
        }
      ]
    },
    {
      "cell_type": "code",
      "source": [
        "#Element wise mutiplication\n",
        "tensor * tensor"
      ],
      "metadata": {
        "colab": {
          "base_uri": "https://localhost:8080/"
        },
        "id": "qfoL6V1-1gkO",
        "outputId": "39ba72bf-033c-46fd-cebc-3f3451a62d9f"
      },
      "execution_count": 32,
      "outputs": [
        {
          "output_type": "execute_result",
          "data": {
            "text/plain": [
              "tensor([1, 4, 9])"
            ]
          },
          "metadata": {},
          "execution_count": 32
        }
      ]
    },
    {
      "cell_type": "code",
      "source": [
        "#Matrix Multiplication\n",
        "torch.matmul(tensor,tensor)"
      ],
      "metadata": {
        "colab": {
          "base_uri": "https://localhost:8080/"
        },
        "id": "zVJJzZPU0NuH",
        "outputId": "b2805859-9d17-4c29-faf2-212b31c6abb3"
      },
      "execution_count": 35,
      "outputs": [
        {
          "output_type": "execute_result",
          "data": {
            "text/plain": [
              "tensor(14)"
            ]
          },
          "metadata": {},
          "execution_count": 35
        }
      ]
    },
    {
      "cell_type": "code",
      "source": [
        "%%time\n",
        "torch.matmul(tensor,tensor)"
      ],
      "metadata": {
        "colab": {
          "base_uri": "https://localhost:8080/"
        },
        "id": "_2Ylisyr2cDl",
        "outputId": "e48c0a23-1451-467d-ccb4-24c6b8d1a5b0"
      },
      "execution_count": 36,
      "outputs": [
        {
          "output_type": "stream",
          "name": "stdout",
          "text": [
            "CPU times: user 1.33 ms, sys: 0 ns, total: 1.33 ms\n",
            "Wall time: 1.23 ms\n"
          ]
        },
        {
          "output_type": "execute_result",
          "data": {
            "text/plain": [
              "tensor(14)"
            ]
          },
          "metadata": {},
          "execution_count": 36
        }
      ]
    },
    {
      "cell_type": "markdown",
      "source": [
        "Matrix Multiplication rules\n",
        "1. Inner dimensions must match\n",
        "2. The resulting matrix has the shape of the **outer dimensions**\n"
      ],
      "metadata": {
        "id": "YIs8o2BR4YHN"
      }
    },
    {
      "cell_type": "code",
      "source": [
        "tensor_A = torch.tensor([[1,2],\n",
        "                        [3,4],\n",
        "                        [5,6]])\n",
        "tensor_B = torch.tensor([[7,10],\n",
        "                        [8,11],\n",
        "                        [9,12]])\n",
        "torch.mm(tensor_A, tensor_B)"
      ],
      "metadata": {
        "colab": {
          "base_uri": "https://localhost:8080/",
          "height": 180
        },
        "id": "7xcKU1So4X0o",
        "outputId": "d609f240-bbff-46f8-c296-3b3eb63560f7"
      },
      "execution_count": 39,
      "outputs": [
        {
          "output_type": "error",
          "ename": "RuntimeError",
          "evalue": "mat1 and mat2 shapes cannot be multiplied (3x2 and 3x2)",
          "traceback": [
            "\u001b[0;31m---------------------------------------------------------------------------\u001b[0m",
            "\u001b[0;31mRuntimeError\u001b[0m                              Traceback (most recent call last)",
            "\u001b[0;32m<ipython-input-39-cee10b358c67>\u001b[0m in \u001b[0;36m<cell line: 7>\u001b[0;34m()\u001b[0m\n\u001b[1;32m      5\u001b[0m                         \u001b[0;34m[\u001b[0m\u001b[0;36m8\u001b[0m\u001b[0;34m,\u001b[0m\u001b[0;36m11\u001b[0m\u001b[0;34m]\u001b[0m\u001b[0;34m,\u001b[0m\u001b[0;34m\u001b[0m\u001b[0;34m\u001b[0m\u001b[0m\n\u001b[1;32m      6\u001b[0m                         [9,12]])\n\u001b[0;32m----> 7\u001b[0;31m \u001b[0mtorch\u001b[0m\u001b[0;34m.\u001b[0m\u001b[0mmatmul\u001b[0m\u001b[0;34m(\u001b[0m\u001b[0mtensor_A\u001b[0m\u001b[0;34m,\u001b[0m \u001b[0mtensor_B\u001b[0m\u001b[0;34m)\u001b[0m\u001b[0;34m\u001b[0m\u001b[0;34m\u001b[0m\u001b[0m\n\u001b[0m",
            "\u001b[0;31mRuntimeError\u001b[0m: mat1 and mat2 shapes cannot be multiplied (3x2 and 3x2)"
          ]
        }
      ]
    },
    {
      "cell_type": "markdown",
      "source": [
        "Fixing tensor shape issues"
      ],
      "metadata": {
        "id": "HeAnVo_T6_wu"
      }
    },
    {
      "cell_type": "code",
      "source": [
        "tensor_B = tensor_B.T"
      ],
      "metadata": {
        "id": "2Z3MsCSU7X9L"
      },
      "execution_count": 42,
      "outputs": []
    },
    {
      "cell_type": "code",
      "source": [
        "torch.mm(tensor_A, tensor_B)"
      ],
      "metadata": {
        "colab": {
          "base_uri": "https://localhost:8080/"
        },
        "id": "1ua3lMN47tR7",
        "outputId": "b0b1ae7c-b482-4a8f-e0da-acc2b4254652"
      },
      "execution_count": 43,
      "outputs": [
        {
          "output_type": "execute_result",
          "data": {
            "text/plain": [
              "tensor([[ 27,  30,  33],\n",
              "        [ 61,  68,  75],\n",
              "        [ 95, 106, 117]])"
            ]
          },
          "metadata": {},
          "execution_count": 43
        }
      ]
    }
  ]
}