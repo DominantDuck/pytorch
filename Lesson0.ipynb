{
  "nbformat": 4,
  "nbformat_minor": 0,
  "metadata": {
    "colab": {
      "provenance": [],
      "authorship_tag": "ABX9TyNSfAuFMEmjfenMGdFvPWLk",
      "include_colab_link": true
    },
    "kernelspec": {
      "name": "python3",
      "display_name": "Python 3"
    },
    "language_info": {
      "name": "python"
    }
  },
  "cells": [
    {
      "cell_type": "markdown",
      "metadata": {
        "id": "view-in-github",
        "colab_type": "text"
      },
      "source": [
        "<a href=\"https://colab.research.google.com/github/DominantDuck/pytorch/blob/main/Lesson0.ipynb\" target=\"_parent\"><img src=\"https://colab.research.google.com/assets/colab-badge.svg\" alt=\"Open In Colab\"/></a>"
      ]
    },
    {
      "cell_type": "code",
      "execution_count": null,
      "metadata": {
        "colab": {
          "base_uri": "https://localhost:8080/"
        },
        "id": "oxH09jEupkGG",
        "outputId": "27e90228-83a3-433a-e8e1-0a9853019fbe"
      },
      "outputs": [
        {
          "output_type": "stream",
          "name": "stdout",
          "text": [
            "/bin/bash: line 1: nvidia-smi: command not found\n"
          ]
        }
      ],
      "source": [
        "!nvidia-smi"
      ]
    },
    {
      "cell_type": "code",
      "source": [
        "import torch\n",
        "import pandas as pd\n",
        "import numpy as np\n",
        "import matplotlib.pyplot as plt\n",
        "print (torch.__version__)"
      ],
      "metadata": {
        "colab": {
          "base_uri": "https://localhost:8080/"
        },
        "id": "oq96WNRbqJ4M",
        "outputId": "b8b1ab4a-cb9b-423b-a769-cd6838786cf0"
      },
      "execution_count": null,
      "outputs": [
        {
          "output_type": "stream",
          "name": "stdout",
          "text": [
            "2.3.1+cu121\n"
          ]
        }
      ]
    },
    {
      "cell_type": "code",
      "source": [
        "# scalar\n",
        "scalar = torch.tensor(7)\n",
        "scalar"
      ],
      "metadata": {
        "colab": {
          "base_uri": "https://localhost:8080/"
        },
        "id": "AgUwp9DIrTNL",
        "outputId": "099c951e-9cde-4111-83cd-28cda2336eac"
      },
      "execution_count": null,
      "outputs": [
        {
          "output_type": "execute_result",
          "data": {
            "text/plain": [
              "tensor(7)"
            ]
          },
          "metadata": {},
          "execution_count": 3
        }
      ]
    },
    {
      "cell_type": "code",
      "source": [
        "scalar.ndim"
      ],
      "metadata": {
        "colab": {
          "base_uri": "https://localhost:8080/"
        },
        "id": "-23BlBddsoDe",
        "outputId": "09e39cdb-b0cb-4c43-ca24-4675e2762188"
      },
      "execution_count": null,
      "outputs": [
        {
          "output_type": "execute_result",
          "data": {
            "text/plain": [
              "0"
            ]
          },
          "metadata": {},
          "execution_count": 6
        }
      ]
    },
    {
      "cell_type": "code",
      "source": [
        "scalar.item()"
      ],
      "metadata": {
        "colab": {
          "base_uri": "https://localhost:8080/"
        },
        "id": "tVzscKjesqEV",
        "outputId": "97cec821-0597-4bbf-b15f-c9c92686f495"
      },
      "execution_count": null,
      "outputs": [
        {
          "output_type": "execute_result",
          "data": {
            "text/plain": [
              "7"
            ]
          },
          "metadata": {},
          "execution_count": 7
        }
      ]
    },
    {
      "cell_type": "code",
      "source": [
        "vector = torch.tensor([7,7])\n",
        "vector"
      ],
      "metadata": {
        "colab": {
          "base_uri": "https://localhost:8080/"
        },
        "id": "QHaRuKpQsvFR",
        "outputId": "38b5f4b4-e9ff-4b11-eba4-1cc4dc0b991f"
      },
      "execution_count": null,
      "outputs": [
        {
          "output_type": "execute_result",
          "data": {
            "text/plain": [
              "tensor([7, 7])"
            ]
          },
          "metadata": {},
          "execution_count": 8
        }
      ]
    },
    {
      "cell_type": "code",
      "source": [
        "vector.ndim"
      ],
      "metadata": {
        "colab": {
          "base_uri": "https://localhost:8080/"
        },
        "id": "xAUZE3eFtJkT",
        "outputId": "8f3af3bb-b60d-4f67-f3ac-5f87acca28ef"
      },
      "execution_count": null,
      "outputs": [
        {
          "output_type": "execute_result",
          "data": {
            "text/plain": [
              "1"
            ]
          },
          "metadata": {},
          "execution_count": 9
        }
      ]
    },
    {
      "cell_type": "code",
      "source": [
        "vector.shape"
      ],
      "metadata": {
        "colab": {
          "base_uri": "https://localhost:8080/"
        },
        "id": "9MswnPOdtMun",
        "outputId": "ea20a3a7-aeda-4060-b86c-ff123bc5e19a"
      },
      "execution_count": null,
      "outputs": [
        {
          "output_type": "execute_result",
          "data": {
            "text/plain": [
              "torch.Size([2])"
            ]
          },
          "metadata": {},
          "execution_count": 10
        }
      ]
    },
    {
      "cell_type": "code",
      "source": [
        "MATRIX = torch.tensor([[7,8],\n",
        "                       [9,10]])\n",
        "\n",
        "MATRIX"
      ],
      "metadata": {
        "colab": {
          "base_uri": "https://localhost:8080/"
        },
        "id": "p-PEjPKutYKD",
        "outputId": "46a8b267-db65-49b0-b15b-526767f7baba"
      },
      "execution_count": null,
      "outputs": [
        {
          "output_type": "execute_result",
          "data": {
            "text/plain": [
              "tensor([[ 7,  8],\n",
              "        [ 9, 10]])"
            ]
          },
          "metadata": {},
          "execution_count": 12
        }
      ]
    },
    {
      "cell_type": "code",
      "source": [
        "MATRIX.ndim"
      ],
      "metadata": {
        "colab": {
          "base_uri": "https://localhost:8080/"
        },
        "id": "-QXuPUdptoVY",
        "outputId": "d8e8d59b-a680-43d9-dffa-610d905d33ab"
      },
      "execution_count": null,
      "outputs": [
        {
          "output_type": "execute_result",
          "data": {
            "text/plain": [
              "2"
            ]
          },
          "metadata": {},
          "execution_count": 13
        }
      ]
    },
    {
      "cell_type": "code",
      "source": [
        "MATRIX[0]"
      ],
      "metadata": {
        "colab": {
          "base_uri": "https://localhost:8080/"
        },
        "id": "beavBh09tsIJ",
        "outputId": "6a121e1f-f081-4b7b-e60d-94529051fc4d"
      },
      "execution_count": null,
      "outputs": [
        {
          "output_type": "execute_result",
          "data": {
            "text/plain": [
              "tensor([7, 8])"
            ]
          },
          "metadata": {},
          "execution_count": 14
        }
      ]
    },
    {
      "cell_type": "code",
      "source": [
        "MATRIX.shape"
      ],
      "metadata": {
        "colab": {
          "base_uri": "https://localhost:8080/"
        },
        "id": "mT56FvIOtzFY",
        "outputId": "dddc1270-266e-4b19-f273-58d14bc22f95"
      },
      "execution_count": null,
      "outputs": [
        {
          "output_type": "execute_result",
          "data": {
            "text/plain": [
              "torch.Size([2, 2])"
            ]
          },
          "metadata": {},
          "execution_count": 15
        }
      ]
    },
    {
      "cell_type": "code",
      "source": [
        "TENSOR = torch.tensor([[[1,2,3],\n",
        "                        [4,5,6],\n",
        "                        [7,8,9]]])\n",
        "\n",
        "TENSOR"
      ],
      "metadata": {
        "colab": {
          "base_uri": "https://localhost:8080/"
        },
        "id": "gBkj2hEGt65Z",
        "outputId": "3f6cb473-57d0-4ae6-d005-a405db0f1250"
      },
      "execution_count": null,
      "outputs": [
        {
          "output_type": "execute_result",
          "data": {
            "text/plain": [
              "tensor([[[1, 2, 3],\n",
              "         [4, 5, 6],\n",
              "         [7, 8, 9]]])"
            ]
          },
          "metadata": {},
          "execution_count": 16
        }
      ]
    },
    {
      "cell_type": "code",
      "source": [
        "TENSOR[0][2].ndim"
      ],
      "metadata": {
        "colab": {
          "base_uri": "https://localhost:8080/"
        },
        "id": "5Y5LIC31vLQk",
        "outputId": "4150ae02-ba66-4006-855c-72913ca9ba28"
      },
      "execution_count": null,
      "outputs": [
        {
          "output_type": "execute_result",
          "data": {
            "text/plain": [
              "1"
            ]
          },
          "metadata": {},
          "execution_count": 21
        }
      ]
    },
    {
      "cell_type": "markdown",
      "source": [
        "# Random Tensors"
      ],
      "metadata": {
        "id": "TTTtdHb6v-OG"
      }
    },
    {
      "cell_type": "code",
      "source": [
        "random_tensor = torch.rand(5,5,5)\n",
        "\n",
        "random_tensor"
      ],
      "metadata": {
        "colab": {
          "base_uri": "https://localhost:8080/"
        },
        "id": "ZmZ4Mvc2wMbP",
        "outputId": "6ebb912d-24c0-4589-f002-aa872f69f557"
      },
      "execution_count": null,
      "outputs": [
        {
          "output_type": "execute_result",
          "data": {
            "text/plain": [
              "tensor([[[0.4781, 0.9266, 0.7459, 0.8970, 0.0323],\n",
              "         [0.7005, 0.9094, 0.9958, 0.2989, 0.9439],\n",
              "         [0.8966, 0.8935, 0.2036, 0.5040, 0.7011],\n",
              "         [0.5911, 0.2857, 0.2295, 0.9128, 0.8403],\n",
              "         [0.6537, 0.1823, 0.1766, 0.5282, 0.1861]],\n",
              "\n",
              "        [[0.5822, 0.7157, 0.5983, 0.1980, 0.1429],\n",
              "         [0.2583, 0.2261, 0.5893, 0.3480, 0.6833],\n",
              "         [0.3091, 0.9954, 0.4555, 0.4434, 0.8385],\n",
              "         [0.7131, 0.9646, 0.2751, 0.2684, 0.1617],\n",
              "         [0.8278, 0.8081, 0.0376, 0.8889, 0.8270]],\n",
              "\n",
              "        [[0.7366, 0.7174, 0.9754, 0.7327, 0.9431],\n",
              "         [0.6958, 0.5370, 0.5082, 0.0241, 0.2559],\n",
              "         [0.6176, 0.5974, 0.9684, 0.7654, 0.4999],\n",
              "         [0.1921, 0.6653, 0.1758, 0.3218, 0.5694],\n",
              "         [0.9905, 0.8904, 0.3188, 0.3168, 0.3479]],\n",
              "\n",
              "        [[0.5448, 0.4183, 0.8511, 0.3826, 0.2442],\n",
              "         [0.0459, 0.4583, 0.4608, 0.2978, 0.9666],\n",
              "         [0.6644, 0.9894, 0.9469, 0.3383, 0.2744],\n",
              "         [0.9682, 0.8171, 0.0793, 0.9915, 0.8029],\n",
              "         [0.2480, 0.3015, 0.5471, 0.5602, 0.1361]],\n",
              "\n",
              "        [[0.7646, 0.9616, 0.4249, 0.7291, 0.6484],\n",
              "         [0.1709, 0.8563, 0.0452, 0.8649, 0.7333],\n",
              "         [0.6349, 0.7184, 0.8355, 0.5686, 0.4933],\n",
              "         [0.8304, 0.9890, 0.2064, 0.6179, 0.8231],\n",
              "         [0.3372, 0.7578, 0.6410, 0.6273, 0.4028]]])"
            ]
          },
          "metadata": {},
          "execution_count": 7
        }
      ]
    },
    {
      "cell_type": "code",
      "source": [
        "random_image_size_tensor = torch.rand(size=(3,224,224)) #height, with, rgb value\n",
        "random_image_size_tensor.shape, random_image_size_tensor.ndim"
      ],
      "metadata": {
        "colab": {
          "base_uri": "https://localhost:8080/"
        },
        "id": "g-fc0nApxKoL",
        "outputId": "e7d9e1e3-dc05-4c60-ad3e-033e4ea2c1ac"
      },
      "execution_count": null,
      "outputs": [
        {
          "output_type": "execute_result",
          "data": {
            "text/plain": [
              "(torch.Size([3, 224, 224]), 3)"
            ]
          },
          "metadata": {},
          "execution_count": 12
        }
      ]
    }
  ]
}